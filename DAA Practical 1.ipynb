{
 "cells": [
  {
   "cell_type": "code",
   "execution_count": 2,
   "id": "6ab3fe77",
   "metadata": {},
   "outputs": [],
   "source": []
  },
  {
   "cell_type": "code",
   "execution_count": null,
   "id": "d65f4cc6",
   "metadata": {},
   "outputs": [],
   "source": []
  },
  {
   "cell_type": "code",
   "execution_count": 5,
   "id": "01564833",
   "metadata": {},
   "outputs": [
    {
     "name": "stdout",
     "output_type": "stream",
     "text": [
      "Enter number of terms: 4\n",
      "*** RECURSIVE APPROACH ***\n",
      "Entered Number of Terms: 4\n",
      "Fibonacci sequence:\n",
      "[0, 1, 1, 2]\n"
     ]
    }
   ],
   "source": [
    "# Recursive approach:-\n",
    "def fibonacci(n):\n",
    " if(n <= 1):\n",
    "     return n\n",
    " else:\n",
    "     return(fibonacci(n-1) + fibonacci(n-2))\n",
    "n = int(input(\"Enter number of terms: \"))\n",
    "print(\"*** RECURSIVE APPROACH ***\")\n",
    "print(\"Entered Number of Terms:\",n)\n",
    "myLst = []\n",
    "print(\"Fibonacci sequence:\")\n",
    "for i in range(n):\n",
    " myLst.append(fibonacci(i))\n",
    "print(myLst)"
   ]
  },
  {
   "cell_type": "code",
   "execution_count": 3,
   "id": "639d4bbc",
   "metadata": {},
   "outputs": [
    {
     "name": "stdout",
     "output_type": "stream",
     "text": [
      "Enter the number of terms: 3\n",
      "*** ITERATIVE APPROACH ***\n",
      "Entered Number of Terms: 3\n",
      "Fibonacci sequence:\n",
      "[0, 1, 1]\n"
     ]
    }
   ],
   "source": [
    "# Non-recursive(iterative) approach:-\n",
    "a = 0\n",
    "b = 1\n",
    "n=int(input(\"Enter the number of terms: \"))\n",
    "print(\"*** ITERATIVE APPROACH ***\")\n",
    "print(\"Entered Number of Terms:\",n)\n",
    "myLst = []\n",
    "myLst.append(a)\n",
    "myLst.append(b)\n",
    "# print(a,b,end=\" \")\n",
    "while(n-2):\n",
    " c=a+b\n",
    " a,b = b,c\n",
    " myLst.append(c)\n",
    " # print(c,end=\" \")\n",
    " n=n-1\n",
    "print(\"Fibonacci sequence:\")\n",
    "print(myLst)"
   ]
  },
  {
   "cell_type": "code",
   "execution_count": 1,
   "id": "7cd4fefa",
   "metadata": {},
   "outputs": [
    {
     "name": "stdout",
     "output_type": "stream",
     "text": [
      "Enter the number of terms: 4\n",
      "*** ITERATIVE APPROACH ***\n",
      "Entered Number of Terms: 4\n",
      "Fibonacci sequence:\n",
      "[0, 1, 1, 2]\n"
     ]
    }
   ],
   "source": [
    "\n",
    "a = 0\n",
    "b = 1\n",
    "n=int(input(\"Enter the number of terms: \"))\n",
    "print(\"*** ITERATIVE APPROACH ***\")\n",
    "print(\"Entered Number of Terms:\",n)\n",
    "myLst = []\n",
    "myLst.append(a)\n",
    "myLst.append(b)\n",
    "while(n-2):\n",
    " c=a+b\n",
    " a,b = b,c\n",
    " myLst.append(c)\n",
    " n=n-1\n",
    "print(\"Fibonacci sequence:\")\n",
    "print(myLst)"
   ]
  },
  {
   "cell_type": "code",
   "execution_count": null,
   "id": "324c1f14",
   "metadata": {},
   "outputs": [],
   "source": []
  }
 ],
 "metadata": {
  "kernelspec": {
   "display_name": "Python 3 (ipykernel)",
   "language": "python",
   "name": "python3"
  },
  "language_info": {
   "codemirror_mode": {
    "name": "ipython",
    "version": 3
   },
   "file_extension": ".py",
   "mimetype": "text/x-python",
   "name": "python",
   "nbconvert_exporter": "python",
   "pygments_lexer": "ipython3",
   "version": "3.9.13"
  }
 },
 "nbformat": 4,
 "nbformat_minor": 5
}
